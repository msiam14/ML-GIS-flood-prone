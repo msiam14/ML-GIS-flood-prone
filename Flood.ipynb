{
 "cells": [
  {
   "cell_type": "code",
   "execution_count": 1,
   "id": "dc67fe22",
   "metadata": {},
   "outputs": [],
   "source": [
    "import pandas as pd \n",
    "import matplotlib.pyplot as plt\n",
    "%matplotlib inline\n",
    "import seaborn as sns"
   ]
  },
  {
   "cell_type": "markdown",
   "id": "47d24ac8",
   "metadata": {},
   "source": [
    "## Loading Data"
   ]
  },
  {
   "cell_type": "code",
   "execution_count": 2,
   "id": "b289d180",
   "metadata": {},
   "outputs": [
    {
     "data": {
      "text/html": [
       "<div>\n",
       "<style scoped>\n",
       "    .dataframe tbody tr th:only-of-type {\n",
       "        vertical-align: middle;\n",
       "    }\n",
       "\n",
       "    .dataframe tbody tr th {\n",
       "        vertical-align: top;\n",
       "    }\n",
       "\n",
       "    .dataframe thead th {\n",
       "        text-align: right;\n",
       "    }\n",
       "</style>\n",
       "<table border=\"1\" class=\"dataframe\">\n",
       "  <thead>\n",
       "    <tr style=\"text-align: right;\">\n",
       "      <th></th>\n",
       "      <th>ID</th>\n",
       "      <th>flood</th>\n",
       "      <th>elveation</th>\n",
       "      <th>slope</th>\n",
       "      <th>Distance_Rivers</th>\n",
       "      <th>Precipitation</th>\n",
       "    </tr>\n",
       "  </thead>\n",
       "  <tbody>\n",
       "    <tr>\n",
       "      <th>0</th>\n",
       "      <td>1</td>\n",
       "      <td>1</td>\n",
       "      <td>11.006955</td>\n",
       "      <td>2.358794</td>\n",
       "      <td>108</td>\n",
       "      <td>466.600006</td>\n",
       "    </tr>\n",
       "    <tr>\n",
       "      <th>1</th>\n",
       "      <td>2</td>\n",
       "      <td>0</td>\n",
       "      <td>9.139240</td>\n",
       "      <td>1.335799</td>\n",
       "      <td>51</td>\n",
       "      <td>424.399994</td>\n",
       "    </tr>\n",
       "    <tr>\n",
       "      <th>2</th>\n",
       "      <td>3</td>\n",
       "      <td>1</td>\n",
       "      <td>10.817870</td>\n",
       "      <td>2.808787</td>\n",
       "      <td>40</td>\n",
       "      <td>424.399994</td>\n",
       "    </tr>\n",
       "    <tr>\n",
       "      <th>3</th>\n",
       "      <td>4</td>\n",
       "      <td>1</td>\n",
       "      <td>9.000000</td>\n",
       "      <td>0.000000</td>\n",
       "      <td>78</td>\n",
       "      <td>424.399994</td>\n",
       "    </tr>\n",
       "    <tr>\n",
       "      <th>4</th>\n",
       "      <td>5</td>\n",
       "      <td>1</td>\n",
       "      <td>19.637095</td>\n",
       "      <td>1.798857</td>\n",
       "      <td>57</td>\n",
       "      <td>424.399994</td>\n",
       "    </tr>\n",
       "  </tbody>\n",
       "</table>\n",
       "</div>"
      ],
      "text/plain": [
       "   ID  flood  elveation     slope  Distance_Rivers  Precipitation\n",
       "0   1      1  11.006955  2.358794              108     466.600006\n",
       "1   2      0   9.139240  1.335799               51     424.399994\n",
       "2   3      1  10.817870  2.808787               40     424.399994\n",
       "3   4      1   9.000000  0.000000               78     424.399994\n",
       "4   5      1  19.637095  1.798857               57     424.399994"
      ]
     },
     "execution_count": 2,
     "metadata": {},
     "output_type": "execute_result"
    }
   ],
   "source": [
    "df = pd.read_csv(r\"flood4.csv\")\n",
    "df.head(5)"
   ]
  },
  {
   "cell_type": "markdown",
   "id": "0efafdc4",
   "metadata": {},
   "source": [
    "## Split training data further into training and Test\n"
   ]
  },
  {
   "cell_type": "code",
   "execution_count": 3,
   "id": "b83e273c",
   "metadata": {},
   "outputs": [],
   "source": [
    "from sklearn.model_selection import train_test_split"
   ]
  },
  {
   "cell_type": "code",
   "execution_count": 4,
   "id": "6b2e4c4b",
   "metadata": {},
   "outputs": [
    {
     "data": {
      "text/html": [
       "<div>\n",
       "<style scoped>\n",
       "    .dataframe tbody tr th:only-of-type {\n",
       "        vertical-align: middle;\n",
       "    }\n",
       "\n",
       "    .dataframe tbody tr th {\n",
       "        vertical-align: top;\n",
       "    }\n",
       "\n",
       "    .dataframe thead th {\n",
       "        text-align: right;\n",
       "    }\n",
       "</style>\n",
       "<table border=\"1\" class=\"dataframe\">\n",
       "  <thead>\n",
       "    <tr style=\"text-align: right;\">\n",
       "      <th></th>\n",
       "      <th>ID</th>\n",
       "      <th>elveation</th>\n",
       "      <th>slope</th>\n",
       "      <th>Distance_Rivers</th>\n",
       "      <th>Precipitation</th>\n",
       "    </tr>\n",
       "  </thead>\n",
       "  <tbody>\n",
       "    <tr>\n",
       "      <th>1</th>\n",
       "      <td>2</td>\n",
       "      <td>9.139240</td>\n",
       "      <td>1.335799</td>\n",
       "      <td>51</td>\n",
       "      <td>424.399994</td>\n",
       "    </tr>\n",
       "    <tr>\n",
       "      <th>25</th>\n",
       "      <td>26</td>\n",
       "      <td>34.376950</td>\n",
       "      <td>7.949885</td>\n",
       "      <td>652</td>\n",
       "      <td>512.250000</td>\n",
       "    </tr>\n",
       "    <tr>\n",
       "      <th>50</th>\n",
       "      <td>51</td>\n",
       "      <td>23.000000</td>\n",
       "      <td>0.000000</td>\n",
       "      <td>38</td>\n",
       "      <td>590.500000</td>\n",
       "    </tr>\n",
       "    <tr>\n",
       "      <th>21</th>\n",
       "      <td>22</td>\n",
       "      <td>56.108719</td>\n",
       "      <td>9.535309</td>\n",
       "      <td>700</td>\n",
       "      <td>512.250000</td>\n",
       "    </tr>\n",
       "    <tr>\n",
       "      <th>40</th>\n",
       "      <td>41</td>\n",
       "      <td>23.000000</td>\n",
       "      <td>0.000000</td>\n",
       "      <td>30</td>\n",
       "      <td>590.500000</td>\n",
       "    </tr>\n",
       "    <tr>\n",
       "      <th>20</th>\n",
       "      <td>21</td>\n",
       "      <td>45.323214</td>\n",
       "      <td>2.902263</td>\n",
       "      <td>600</td>\n",
       "      <td>512.250000</td>\n",
       "    </tr>\n",
       "    <tr>\n",
       "      <th>44</th>\n",
       "      <td>45</td>\n",
       "      <td>59.116174</td>\n",
       "      <td>5.756005</td>\n",
       "      <td>880</td>\n",
       "      <td>590.500000</td>\n",
       "    </tr>\n",
       "    <tr>\n",
       "      <th>9</th>\n",
       "      <td>10</td>\n",
       "      <td>8.000000</td>\n",
       "      <td>0.000000</td>\n",
       "      <td>57</td>\n",
       "      <td>424.399994</td>\n",
       "    </tr>\n",
       "    <tr>\n",
       "      <th>38</th>\n",
       "      <td>39</td>\n",
       "      <td>23.000000</td>\n",
       "      <td>0.000000</td>\n",
       "      <td>52</td>\n",
       "      <td>590.500000</td>\n",
       "    </tr>\n",
       "    <tr>\n",
       "      <th>45</th>\n",
       "      <td>46</td>\n",
       "      <td>23.000000</td>\n",
       "      <td>0.000000</td>\n",
       "      <td>43</td>\n",
       "      <td>590.500000</td>\n",
       "    </tr>\n",
       "    <tr>\n",
       "      <th>14</th>\n",
       "      <td>15</td>\n",
       "      <td>29.480791</td>\n",
       "      <td>1.249613</td>\n",
       "      <td>200</td>\n",
       "      <td>568.849976</td>\n",
       "    </tr>\n",
       "    <tr>\n",
       "      <th>16</th>\n",
       "      <td>17</td>\n",
       "      <td>67.078529</td>\n",
       "      <td>6.192108</td>\n",
       "      <td>1372</td>\n",
       "      <td>512.250000</td>\n",
       "    </tr>\n",
       "    <tr>\n",
       "      <th>43</th>\n",
       "      <td>44</td>\n",
       "      <td>48.858546</td>\n",
       "      <td>7.129847</td>\n",
       "      <td>974</td>\n",
       "      <td>590.500000</td>\n",
       "    </tr>\n",
       "    <tr>\n",
       "      <th>17</th>\n",
       "      <td>18</td>\n",
       "      <td>26.000000</td>\n",
       "      <td>0.000000</td>\n",
       "      <td>190</td>\n",
       "      <td>512.250000</td>\n",
       "    </tr>\n",
       "    <tr>\n",
       "      <th>18</th>\n",
       "      <td>19</td>\n",
       "      <td>64.237422</td>\n",
       "      <td>5.391923</td>\n",
       "      <td>800</td>\n",
       "      <td>512.250000</td>\n",
       "    </tr>\n",
       "    <tr>\n",
       "      <th>49</th>\n",
       "      <td>50</td>\n",
       "      <td>23.000000</td>\n",
       "      <td>1.633233</td>\n",
       "      <td>180</td>\n",
       "      <td>590.500000</td>\n",
       "    </tr>\n",
       "    <tr>\n",
       "      <th>0</th>\n",
       "      <td>1</td>\n",
       "      <td>11.006955</td>\n",
       "      <td>2.358794</td>\n",
       "      <td>108</td>\n",
       "      <td>466.600006</td>\n",
       "    </tr>\n",
       "    <tr>\n",
       "      <th>52</th>\n",
       "      <td>53</td>\n",
       "      <td>48.208019</td>\n",
       "      <td>6.647782</td>\n",
       "      <td>540</td>\n",
       "      <td>523.200012</td>\n",
       "    </tr>\n",
       "    <tr>\n",
       "      <th>53</th>\n",
       "      <td>54</td>\n",
       "      <td>25.981628</td>\n",
       "      <td>8.517546</td>\n",
       "      <td>444</td>\n",
       "      <td>590.500000</td>\n",
       "    </tr>\n",
       "    <tr>\n",
       "      <th>55</th>\n",
       "      <td>56</td>\n",
       "      <td>50.917751</td>\n",
       "      <td>2.942241</td>\n",
       "      <td>1030</td>\n",
       "      <td>590.500000</td>\n",
       "    </tr>\n",
       "    <tr>\n",
       "      <th>10</th>\n",
       "      <td>11</td>\n",
       "      <td>15.000000</td>\n",
       "      <td>0.177376</td>\n",
       "      <td>121</td>\n",
       "      <td>424.399994</td>\n",
       "    </tr>\n",
       "    <tr>\n",
       "      <th>56</th>\n",
       "      <td>57</td>\n",
       "      <td>39.000000</td>\n",
       "      <td>0.168777</td>\n",
       "      <td>1043</td>\n",
       "      <td>590.500000</td>\n",
       "    </tr>\n",
       "    <tr>\n",
       "      <th>51</th>\n",
       "      <td>52</td>\n",
       "      <td>52.058095</td>\n",
       "      <td>11.897410</td>\n",
       "      <td>930</td>\n",
       "      <td>590.500000</td>\n",
       "    </tr>\n",
       "    <tr>\n",
       "      <th>31</th>\n",
       "      <td>32</td>\n",
       "      <td>42.522986</td>\n",
       "      <td>4.294547</td>\n",
       "      <td>970</td>\n",
       "      <td>568.849976</td>\n",
       "    </tr>\n",
       "    <tr>\n",
       "      <th>7</th>\n",
       "      <td>8</td>\n",
       "      <td>9.200864</td>\n",
       "      <td>1.176392</td>\n",
       "      <td>92</td>\n",
       "      <td>424.399994</td>\n",
       "    </tr>\n",
       "    <tr>\n",
       "      <th>24</th>\n",
       "      <td>25</td>\n",
       "      <td>72.486009</td>\n",
       "      <td>3.296256</td>\n",
       "      <td>1200</td>\n",
       "      <td>512.250000</td>\n",
       "    </tr>\n",
       "    <tr>\n",
       "      <th>12</th>\n",
       "      <td>13</td>\n",
       "      <td>27.000000</td>\n",
       "      <td>2.233190</td>\n",
       "      <td>164</td>\n",
       "      <td>512.250000</td>\n",
       "    </tr>\n",
       "    <tr>\n",
       "      <th>47</th>\n",
       "      <td>48</td>\n",
       "      <td>47.470004</td>\n",
       "      <td>4.250546</td>\n",
       "      <td>905</td>\n",
       "      <td>590.500000</td>\n",
       "    </tr>\n",
       "    <tr>\n",
       "      <th>59</th>\n",
       "      <td>60</td>\n",
       "      <td>33.124248</td>\n",
       "      <td>1.601988</td>\n",
       "      <td>470</td>\n",
       "      <td>590.500000</td>\n",
       "    </tr>\n",
       "    <tr>\n",
       "      <th>30</th>\n",
       "      <td>31</td>\n",
       "      <td>37.614547</td>\n",
       "      <td>4.424148</td>\n",
       "      <td>143</td>\n",
       "      <td>512.250000</td>\n",
       "    </tr>\n",
       "    <tr>\n",
       "      <th>46</th>\n",
       "      <td>47</td>\n",
       "      <td>54.444713</td>\n",
       "      <td>2.543663</td>\n",
       "      <td>833</td>\n",
       "      <td>590.500000</td>\n",
       "    </tr>\n",
       "    <tr>\n",
       "      <th>35</th>\n",
       "      <td>36</td>\n",
       "      <td>23.000000</td>\n",
       "      <td>0.000000</td>\n",
       "      <td>117</td>\n",
       "      <td>590.500000</td>\n",
       "    </tr>\n",
       "    <tr>\n",
       "      <th>48</th>\n",
       "      <td>49</td>\n",
       "      <td>23.000000</td>\n",
       "      <td>0.317223</td>\n",
       "      <td>56</td>\n",
       "      <td>590.500000</td>\n",
       "    </tr>\n",
       "    <tr>\n",
       "      <th>33</th>\n",
       "      <td>34</td>\n",
       "      <td>32.072022</td>\n",
       "      <td>1.679136</td>\n",
       "      <td>657</td>\n",
       "      <td>568.849976</td>\n",
       "    </tr>\n",
       "    <tr>\n",
       "      <th>27</th>\n",
       "      <td>28</td>\n",
       "      <td>75.243634</td>\n",
       "      <td>2.950729</td>\n",
       "      <td>1130</td>\n",
       "      <td>512.250000</td>\n",
       "    </tr>\n",
       "    <tr>\n",
       "      <th>54</th>\n",
       "      <td>55</td>\n",
       "      <td>44.219815</td>\n",
       "      <td>5.852825</td>\n",
       "      <td>620</td>\n",
       "      <td>590.500000</td>\n",
       "    </tr>\n",
       "    <tr>\n",
       "      <th>37</th>\n",
       "      <td>38</td>\n",
       "      <td>23.000000</td>\n",
       "      <td>0.000000</td>\n",
       "      <td>22</td>\n",
       "      <td>590.500000</td>\n",
       "    </tr>\n",
       "    <tr>\n",
       "      <th>29</th>\n",
       "      <td>30</td>\n",
       "      <td>60.382530</td>\n",
       "      <td>7.088454</td>\n",
       "      <td>1023</td>\n",
       "      <td>512.250000</td>\n",
       "    </tr>\n",
       "    <tr>\n",
       "      <th>8</th>\n",
       "      <td>9</td>\n",
       "      <td>8.000000</td>\n",
       "      <td>0.000000</td>\n",
       "      <td>47</td>\n",
       "      <td>466.600006</td>\n",
       "    </tr>\n",
       "    <tr>\n",
       "      <th>39</th>\n",
       "      <td>40</td>\n",
       "      <td>23.000000</td>\n",
       "      <td>0.000000</td>\n",
       "      <td>50</td>\n",
       "      <td>590.500000</td>\n",
       "    </tr>\n",
       "    <tr>\n",
       "      <th>26</th>\n",
       "      <td>27</td>\n",
       "      <td>28.146175</td>\n",
       "      <td>3.620487</td>\n",
       "      <td>178</td>\n",
       "      <td>512.250000</td>\n",
       "    </tr>\n",
       "    <tr>\n",
       "      <th>13</th>\n",
       "      <td>14</td>\n",
       "      <td>28.244342</td>\n",
       "      <td>2.149305</td>\n",
       "      <td>95</td>\n",
       "      <td>568.849976</td>\n",
       "    </tr>\n",
       "  </tbody>\n",
       "</table>\n",
       "</div>"
      ],
      "text/plain": [
       "    ID  elveation      slope  Distance_Rivers  Precipitation\n",
       "1    2   9.139240   1.335799               51     424.399994\n",
       "25  26  34.376950   7.949885              652     512.250000\n",
       "50  51  23.000000   0.000000               38     590.500000\n",
       "21  22  56.108719   9.535309              700     512.250000\n",
       "40  41  23.000000   0.000000               30     590.500000\n",
       "20  21  45.323214   2.902263              600     512.250000\n",
       "44  45  59.116174   5.756005              880     590.500000\n",
       "9   10   8.000000   0.000000               57     424.399994\n",
       "38  39  23.000000   0.000000               52     590.500000\n",
       "45  46  23.000000   0.000000               43     590.500000\n",
       "14  15  29.480791   1.249613              200     568.849976\n",
       "16  17  67.078529   6.192108             1372     512.250000\n",
       "43  44  48.858546   7.129847              974     590.500000\n",
       "17  18  26.000000   0.000000              190     512.250000\n",
       "18  19  64.237422   5.391923              800     512.250000\n",
       "49  50  23.000000   1.633233              180     590.500000\n",
       "0    1  11.006955   2.358794              108     466.600006\n",
       "52  53  48.208019   6.647782              540     523.200012\n",
       "53  54  25.981628   8.517546              444     590.500000\n",
       "55  56  50.917751   2.942241             1030     590.500000\n",
       "10  11  15.000000   0.177376              121     424.399994\n",
       "56  57  39.000000   0.168777             1043     590.500000\n",
       "51  52  52.058095  11.897410              930     590.500000\n",
       "31  32  42.522986   4.294547              970     568.849976\n",
       "7    8   9.200864   1.176392               92     424.399994\n",
       "24  25  72.486009   3.296256             1200     512.250000\n",
       "12  13  27.000000   2.233190              164     512.250000\n",
       "47  48  47.470004   4.250546              905     590.500000\n",
       "59  60  33.124248   1.601988              470     590.500000\n",
       "30  31  37.614547   4.424148              143     512.250000\n",
       "46  47  54.444713   2.543663              833     590.500000\n",
       "35  36  23.000000   0.000000              117     590.500000\n",
       "48  49  23.000000   0.317223               56     590.500000\n",
       "33  34  32.072022   1.679136              657     568.849976\n",
       "27  28  75.243634   2.950729             1130     512.250000\n",
       "54  55  44.219815   5.852825              620     590.500000\n",
       "37  38  23.000000   0.000000               22     590.500000\n",
       "29  30  60.382530   7.088454             1023     512.250000\n",
       "8    9   8.000000   0.000000               47     466.600006\n",
       "39  40  23.000000   0.000000               50     590.500000\n",
       "26  27  28.146175   3.620487              178     512.250000\n",
       "13  14  28.244342   2.149305               95     568.849976"
      ]
     },
     "execution_count": 4,
     "metadata": {},
     "output_type": "execute_result"
    }
   ],
   "source": [
    "y = df['flood']\n",
    "x = df.drop (['flood'], axis = 1)\n",
    "X_train, X_test, y_train, y_test= train_test_split(x, y, test_size = 0.30, random_state =55)\n",
    "X_train"
   ]
  },
  {
   "cell_type": "markdown",
   "id": "b547bb62",
   "metadata": {},
   "source": [
    "# Exploring the data"
   ]
  },
  {
   "cell_type": "code",
   "execution_count": 5,
   "id": "da1f9a65",
   "metadata": {},
   "outputs": [
    {
     "data": {
      "text/html": [
       "<div>\n",
       "<style scoped>\n",
       "    .dataframe tbody tr th:only-of-type {\n",
       "        vertical-align: middle;\n",
       "    }\n",
       "\n",
       "    .dataframe tbody tr th {\n",
       "        vertical-align: top;\n",
       "    }\n",
       "\n",
       "    .dataframe thead th {\n",
       "        text-align: right;\n",
       "    }\n",
       "</style>\n",
       "<table border=\"1\" class=\"dataframe\">\n",
       "  <thead>\n",
       "    <tr style=\"text-align: right;\">\n",
       "      <th></th>\n",
       "      <th>flood</th>\n",
       "      <th>elveation</th>\n",
       "      <th>slope</th>\n",
       "      <th>Precipitation</th>\n",
       "    </tr>\n",
       "  </thead>\n",
       "  <tbody>\n",
       "    <tr>\n",
       "      <th>count</th>\n",
       "      <td>60.000000</td>\n",
       "      <td>60.000000</td>\n",
       "      <td>60.000000</td>\n",
       "      <td>60.000000</td>\n",
       "    </tr>\n",
       "    <tr>\n",
       "      <th>mean</th>\n",
       "      <td>0.533333</td>\n",
       "      <td>35.678764</td>\n",
       "      <td>3.360172</td>\n",
       "      <td>533.331665</td>\n",
       "    </tr>\n",
       "    <tr>\n",
       "      <th>std</th>\n",
       "      <td>0.503098</td>\n",
       "      <td>17.744235</td>\n",
       "      <td>2.977689</td>\n",
       "      <td>57.991026</td>\n",
       "    </tr>\n",
       "    <tr>\n",
       "      <th>min</th>\n",
       "      <td>0.000000</td>\n",
       "      <td>8.000000</td>\n",
       "      <td>0.000000</td>\n",
       "      <td>424.399994</td>\n",
       "    </tr>\n",
       "    <tr>\n",
       "      <th>25%</th>\n",
       "      <td>0.000000</td>\n",
       "      <td>23.000000</td>\n",
       "      <td>0.961600</td>\n",
       "      <td>512.250000</td>\n",
       "    </tr>\n",
       "    <tr>\n",
       "      <th>50%</th>\n",
       "      <td>1.000000</td>\n",
       "      <td>32.598135</td>\n",
       "      <td>2.855525</td>\n",
       "      <td>517.725006</td>\n",
       "    </tr>\n",
       "    <tr>\n",
       "      <th>75%</th>\n",
       "      <td>1.000000</td>\n",
       "      <td>48.071736</td>\n",
       "      <td>5.780210</td>\n",
       "      <td>590.500000</td>\n",
       "    </tr>\n",
       "    <tr>\n",
       "      <th>max</th>\n",
       "      <td>1.000000</td>\n",
       "      <td>75.243634</td>\n",
       "      <td>11.897410</td>\n",
       "      <td>590.500000</td>\n",
       "    </tr>\n",
       "  </tbody>\n",
       "</table>\n",
       "</div>"
      ],
      "text/plain": [
       "           flood  elveation      slope  Precipitation\n",
       "count  60.000000  60.000000  60.000000      60.000000\n",
       "mean    0.533333  35.678764   3.360172     533.331665\n",
       "std     0.503098  17.744235   2.977689      57.991026\n",
       "min     0.000000   8.000000   0.000000     424.399994\n",
       "25%     0.000000  23.000000   0.961600     512.250000\n",
       "50%     1.000000  32.598135   2.855525     517.725006\n",
       "75%     1.000000  48.071736   5.780210     590.500000\n",
       "max     1.000000  75.243634  11.897410     590.500000"
      ]
     },
     "execution_count": 5,
     "metadata": {},
     "output_type": "execute_result"
    }
   ],
   "source": [
    "df[[\"flood\" , \"elveation\" , \"slope\", \"Precipitation\"]].describe()"
   ]
  },
  {
   "cell_type": "code",
   "execution_count": 6,
   "id": "6d761add",
   "metadata": {},
   "outputs": [
    {
     "name": "stdout",
     "output_type": "stream",
     "text": [
      "1    32\n",
      "0    28\n",
      "Name: flood, dtype: int64\n"
     ]
    },
    {
     "data": {
      "text/plain": [
       "<AxesSubplot:title={'center':'Flood occurrence and non-occurrence data'}>"
      ]
     },
     "execution_count": 6,
     "metadata": {},
     "output_type": "execute_result"
    },
    {
     "data": {
      "image/png": "[encoded data removed]",
      "text/plain": [
       "<Figure size 432x288 with 1 Axes>"
      ]
     },
     "metadata": {
      "needs_background": "light"
     },
     "output_type": "display_data"
    }
   ],
   "source": [
    "print (df.flood.value_counts())\n",
    "df.flood.value_counts ().plot (kind=\"bar\", color=[\"red\", \"green\"], title= 'Flood occurrence and non-occurrence data')"
   ]
  },
  {
   "cell_type": "code",
   "execution_count": 7,
   "id": "68869af0",
   "metadata": {},
   "outputs": [
    {
     "data": {
      "image/png": "[encoded data removed]",
      "text/plain": [
       "<Figure size 864x864 with 4 Axes>"
      ]
     },
     "metadata": {
      "needs_background": "light"
     },
     "output_type": "display_data"
    }
   ],
   "source": [
    "%matplotlib inline\n",
    "import matplotlib.pyplot as plt\n",
    "df[[\"flood\" , \"elveation\" , \"slope\", \"Precipitation\"]].hist(bins=50, figsize=(12,12))\n",
    "plt.show()"
   ]
  },
  {
   "cell_type": "code",
   "execution_count": 8,
   "id": "e66bb1ff",
   "metadata": {},
   "outputs": [
    {
     "name": "stdout",
     "output_type": "stream",
     "text": [
      "<class 'pandas.core.frame.DataFrame'>\n",
      "RangeIndex: 60 entries, 0 to 59\n",
      "Data columns (total 6 columns):\n",
      " #   Column           Non-Null Count  Dtype  \n",
      "---  ------           --------------  -----  \n",
      " 0   ID               60 non-null     int64  \n",
      " 1   flood            60 non-null     int64  \n",
      " 2   elveation        60 non-null     float64\n",
      " 3   slope            60 non-null     float64\n",
      " 4   Distance_Rivers  60 non-null     int64  \n",
      " 5   Precipitation    60 non-null     float64\n",
      "dtypes: float64(3), int64(3)\n",
      "memory usage: 2.9 KB\n"
     ]
    }
   ],
   "source": [
    "df.info()"
   ]
  },
  {
   "cell_type": "code",
   "execution_count": 9,
   "id": "d8d5993f",
   "metadata": {},
   "outputs": [
    {
     "data": {
      "text/plain": [
       "ID                 0\n",
       "flood              0\n",
       "elveation          0\n",
       "slope              0\n",
       "Distance_Rivers    0\n",
       "Precipitation      0\n",
       "dtype: int64"
      ]
     },
     "execution_count": 9,
     "metadata": {},
     "output_type": "execute_result"
    }
   ],
   "source": [
    "df.isna().sum()"
   ]
  },
  {
   "cell_type": "markdown",
   "id": "0462778c",
   "metadata": {},
   "source": [
    "# Preparing the Data"
   ]
  },
  {
   "cell_type": "markdown",
   "id": "7b0c18d9",
   "metadata": {},
   "source": [
    "# Decision Tree"
   ]
  },
  {
   "cell_type": "code",
   "execution_count": 10,
   "id": "efc34420",
   "metadata": {},
   "outputs": [],
   "source": [
    "from sklearn.tree import DecisionTreeClassifier"
   ]
  },
  {
   "cell_type": "code",
   "execution_count": 11,
   "id": "e2af26be",
   "metadata": {},
   "outputs": [],
   "source": [
    "ds_model = DecisionTreeClassifier(random_state=0)"
   ]
  },
  {
   "cell_type": "code",
   "execution_count": 12,
   "id": "de23a01b",
   "metadata": {},
   "outputs": [
    {
     "data": {
      "text/plain": [
       "DecisionTreeClassifier(random_state=0)"
      ]
     },
     "execution_count": 12,
     "metadata": {},
     "output_type": "execute_result"
    }
   ],
   "source": [
    "ds_model.fit(X_train,y_train) "
   ]
  },
  {
   "cell_type": "code",
   "execution_count": 13,
   "id": "1c9070d3",
   "metadata": {},
   "outputs": [],
   "source": [
    "y_pred = ds_model.predict(X_test)"
   ]
  },
  {
   "cell_type": "code",
   "execution_count": 14,
   "id": "31d6fbcb",
   "metadata": {},
   "outputs": [
    {
     "data": {
      "text/plain": [
       "array([1, 0, 0, 1, 0, 0, 0, 0, 1, 1, 0, 0, 0, 1, 0, 0, 1, 0], dtype=int64)"
      ]
     },
     "execution_count": 14,
     "metadata": {},
     "output_type": "execute_result"
    }
   ],
   "source": [
    "y_pred"
   ]
  },
  {
   "cell_type": "code",
   "execution_count": 15,
   "id": "42df8c5b",
   "metadata": {},
   "outputs": [
    {
     "name": "stdout",
     "output_type": "stream",
     "text": [
      "Accuracy for model: 72.22\n"
     ]
    }
   ],
   "source": [
    "from sklearn.metrics import accuracy_score\n",
    "print(\"Accuracy for model: %.2f\" % (accuracy_score(y_test, y_pred)*100))"
   ]
  },
  {
   "cell_type": "code",
   "execution_count": 16,
   "id": "c591e1fa",
   "metadata": {},
   "outputs": [],
   "source": [
    "from sklearn.metrics import confusion_matrix\n",
    "from sklearn.metrics import classification_report\n",
    "from sklearn.metrics import ConfusionMatrixDisplay"
   ]
  },
  {
   "cell_type": "code",
   "execution_count": 17,
   "id": "d2268c33",
   "metadata": {},
   "outputs": [],
   "source": [
    "cm1 = confusion_matrix(y_test, y_pred)"
   ]
  },
  {
   "cell_type": "code",
   "execution_count": 18,
   "id": "06d95bb2",
   "metadata": {},
   "outputs": [
    {
     "data": {
      "text/plain": [
       "<sklearn.metrics._plot.confusion_matrix.ConfusionMatrixDisplay at 0x1e1429fff10>"
      ]
     },
     "execution_count": 18,
     "metadata": {},
     "output_type": "execute_result"
    },
    {
     "data": {
      "image/png": "[encoded data removed]",
      "text/plain": [
       "<Figure size 432x288 with 2 Axes>"
      ]
     },
     "metadata": {
      "needs_background": "light"
     },
     "output_type": "display_data"
    }
   ],
   "source": [
    "cm_disp = ConfusionMatrixDisplay(confusion_matrix=cm1)\n",
    "cm_disp.plot()"
   ]
  },
  {
   "cell_type": "markdown",
   "id": "78f28a8c",
   "metadata": {},
   "source": [
    "# Random Forest"
   ]
  },
  {
   "cell_type": "code",
   "execution_count": 19,
   "id": "910de115",
   "metadata": {},
   "outputs": [],
   "source": [
    "from sklearn.ensemble import RandomForestClassifier"
   ]
  },
  {
   "cell_type": "code",
   "execution_count": 20,
   "id": "909ed391",
   "metadata": {},
   "outputs": [],
   "source": [
    "rf_model = RandomForestClassifier(random_state=0)"
   ]
  },
  {
   "cell_type": "code",
   "execution_count": 21,
   "id": "54d96709",
   "metadata": {},
   "outputs": [
    {
     "data": {
      "text/plain": [
       "RandomForestClassifier(random_state=0)"
      ]
     },
     "execution_count": 21,
     "metadata": {},
     "output_type": "execute_result"
    }
   ],
   "source": [
    "rf_model.fit(X_train,y_train)"
   ]
  },
  {
   "cell_type": "code",
   "execution_count": 22,
   "id": "114f0ac8",
   "metadata": {},
   "outputs": [],
   "source": [
    "y_pred = ds_model.predict(X_test)"
   ]
  },
  {
   "cell_type": "code",
   "execution_count": 23,
   "id": "408f091b",
   "metadata": {},
   "outputs": [
    {
     "data": {
      "text/plain": [
       "array([1, 0, 0, 1, 0, 0, 0, 0, 1, 1, 0, 0, 0, 1, 0, 0, 1, 0], dtype=int64)"
      ]
     },
     "execution_count": 23,
     "metadata": {},
     "output_type": "execute_result"
    }
   ],
   "source": [
    "y_pred"
   ]
  },
  {
   "cell_type": "code",
   "execution_count": 24,
   "id": "e82667c9",
   "metadata": {},
   "outputs": [
    {
     "name": "stdout",
     "output_type": "stream",
     "text": [
      "Accuracy for model: 72.22\n"
     ]
    }
   ],
   "source": [
    "from sklearn.metrics import accuracy_score\n",
    "print(\"Accuracy for model: %.2f\" % (accuracy_score(y_test, y_pred)*100))"
   ]
  },
  {
   "cell_type": "code",
   "execution_count": 25,
   "id": "8639ba4c",
   "metadata": {},
   "outputs": [],
   "source": [
    "cm1 = confusion_matrix(y_test, y_pred)"
   ]
  },
  {
   "cell_type": "code",
   "execution_count": 26,
   "id": "44aca0db",
   "metadata": {},
   "outputs": [
    {
     "data": {
      "text/plain": [
       "<sklearn.metrics._plot.confusion_matrix.ConfusionMatrixDisplay at 0x1e142ecb370>"
      ]
     },
     "execution_count": 26,
     "metadata": {},
     "output_type": "execute_result"
    },
    {
     "data": {
      "image/png": "[encoded data removed]",
      "text/plain": [
       "<Figure size 432x288 with 2 Axes>"
      ]
     },
     "metadata": {
      "needs_background": "light"
     },
     "output_type": "display_data"
    }
   ],
   "source": [
    "cm_disp = ConfusionMatrixDisplay(confusion_matrix=cm1)\n",
    "cm_disp.plot()"
   ]
  },
  {
   "cell_type": "markdown",
   "id": "9baed2ea",
   "metadata": {},
   "source": [
    "# xgboost"
   ]
  },
  {
   "cell_type": "code",
   "execution_count": 27,
   "id": "23186759",
   "metadata": {},
   "outputs": [],
   "source": [
    "from sklearn.model_selection import train_test_split\n",
    "import xgboost as xgb\n",
    "from sklearn import metrics\n",
    "from sklearn.metrics import classification_report #prediction and Classification Report"
   ]
  },
  {
   "cell_type": "code",
   "execution_count": 28,
   "id": "b2e01d3a",
   "metadata": {},
   "outputs": [
    {
     "name": "stdout",
     "output_type": "stream",
     "text": [
      "[20:54:06] WARNING: D:\\bld\\xgboost-split_1631904903843\\work\\src\\learner.cc:1095: Starting in XGBoost 1.3.0, the default evaluation metric used with the objective 'binary:logistic' was changed from 'error' to 'logloss'. Explicitly set eval_metric if you'd like to restore the old behavior.\n"
     ]
    },
    {
     "name": "stderr",
     "output_type": "stream",
     "text": [
      "C:\\Users\\97059\\anaconda3\\envs\\mlgiss\\lib\\site-packages\\xgboost\\sklearn.py:1146: UserWarning: The use of label encoder in XGBClassifier is deprecated and will be removed in a future release. To remove this warning, do the following: 1) Pass option use_label_encoder=False when constructing XGBClassifier object; and 2) Encode your labels (y) as integers starting with 0, i.e. 0, 1, 2, ..., [num_class - 1].\n",
      "  warnings.warn(label_encoder_deprecation_msg, UserWarning)\n"
     ]
    }
   ],
   "source": [
    "model= xgb.XGBClassifier()\n",
    "train_model = model.fit(X_train, y_train)"
   ]
  },
  {
   "cell_type": "code",
   "execution_count": 29,
   "id": "ff8df09c",
   "metadata": {},
   "outputs": [],
   "source": [
    "y_pred = train_model.predict(X_test)\n"
   ]
  },
  {
   "cell_type": "code",
   "execution_count": 30,
   "id": "4d0a46c0",
   "metadata": {},
   "outputs": [
    {
     "name": "stdout",
     "output_type": "stream",
     "text": [
      "Accuracy for model: 94.44\n"
     ]
    }
   ],
   "source": [
    "from sklearn.metrics import accuracy_score\n",
    "print(\"Accuracy for model: %.2f\" % (accuracy_score(y_test, y_pred)*100))"
   ]
  },
  {
   "cell_type": "code",
   "execution_count": 31,
   "id": "68ffd136",
   "metadata": {},
   "outputs": [],
   "source": [
    "cm1 = confusion_matrix(y_test, y_pred)"
   ]
  },
  {
   "cell_type": "code",
   "execution_count": 32,
   "id": "3ae7b117",
   "metadata": {},
   "outputs": [
    {
     "data": {
      "text/plain": [
       "<sklearn.metrics._plot.confusion_matrix.ConfusionMatrixDisplay at 0x1e14272b640>"
      ]
     },
     "execution_count": 32,
     "metadata": {},
     "output_type": "execute_result"
    },
    {
     "data": {
      "image/png": "[encoded data removed]",
      "text/plain": [
       "<Figure size 432x288 with 2 Axes>"
      ]
     },
     "metadata": {
      "needs_background": "light"
     },
     "output_type": "display_data"
    }
   ],
   "source": [
    "cm_disp = ConfusionMatrixDisplay(confusion_matrix=cm1)\n",
    "cm_disp.plot()"
   ]
  },
  {
   "cell_type": "markdown",
   "id": "34176ba4",
   "metadata": {},
   "source": [
    "# Sample"
   ]
  },
  {
   "cell_type": "code",
   "execution_count": 33,
   "id": "a89d2f42",
   "metadata": {},
   "outputs": [
    {
     "data": {
      "text/html": [
       "<div>\n",
       "<style scoped>\n",
       "    .dataframe tbody tr th:only-of-type {\n",
       "        vertical-align: middle;\n",
       "    }\n",
       "\n",
       "    .dataframe tbody tr th {\n",
       "        vertical-align: top;\n",
       "    }\n",
       "\n",
       "    .dataframe thead th {\n",
       "        text-align: right;\n",
       "    }\n",
       "</style>\n",
       "<table border=\"1\" class=\"dataframe\">\n",
       "  <thead>\n",
       "    <tr style=\"text-align: right;\">\n",
       "      <th></th>\n",
       "      <th>OBJECTID_1</th>\n",
       "      <th>elveation</th>\n",
       "      <th>slope</th>\n",
       "      <th>Distance_R</th>\n",
       "      <th>Precipitat</th>\n",
       "    </tr>\n",
       "  </thead>\n",
       "  <tbody>\n",
       "    <tr>\n",
       "      <th>0</th>\n",
       "      <td>2</td>\n",
       "      <td>37.074029</td>\n",
       "      <td>5.754520</td>\n",
       "      <td>730</td>\n",
       "      <td>424.399994</td>\n",
       "    </tr>\n",
       "    <tr>\n",
       "      <th>1</th>\n",
       "      <td>3</td>\n",
       "      <td>54.844981</td>\n",
       "      <td>3.917561</td>\n",
       "      <td>1000</td>\n",
       "      <td>424.399994</td>\n",
       "    </tr>\n",
       "    <tr>\n",
       "      <th>2</th>\n",
       "      <td>4</td>\n",
       "      <td>9.814543</td>\n",
       "      <td>1.114918</td>\n",
       "      <td>200</td>\n",
       "      <td>424.399994</td>\n",
       "    </tr>\n",
       "    <tr>\n",
       "      <th>3</th>\n",
       "      <td>5</td>\n",
       "      <td>50.464706</td>\n",
       "      <td>7.316616</td>\n",
       "      <td>1000</td>\n",
       "      <td>424.399994</td>\n",
       "    </tr>\n",
       "    <tr>\n",
       "      <th>4</th>\n",
       "      <td>6</td>\n",
       "      <td>28.586240</td>\n",
       "      <td>1.292417</td>\n",
       "      <td>300</td>\n",
       "      <td>424.399994</td>\n",
       "    </tr>\n",
       "    <tr>\n",
       "      <th>5</th>\n",
       "      <td>7</td>\n",
       "      <td>30.088753</td>\n",
       "      <td>2.898544</td>\n",
       "      <td>200</td>\n",
       "      <td>424.399994</td>\n",
       "    </tr>\n",
       "    <tr>\n",
       "      <th>6</th>\n",
       "      <td>8</td>\n",
       "      <td>51.919829</td>\n",
       "      <td>3.421623</td>\n",
       "      <td>1200</td>\n",
       "      <td>512.250000</td>\n",
       "    </tr>\n",
       "    <tr>\n",
       "      <th>7</th>\n",
       "      <td>9</td>\n",
       "      <td>13.048523</td>\n",
       "      <td>3.055299</td>\n",
       "      <td>400</td>\n",
       "      <td>424.399994</td>\n",
       "    </tr>\n",
       "    <tr>\n",
       "      <th>8</th>\n",
       "      <td>10</td>\n",
       "      <td>30.100997</td>\n",
       "      <td>1.991433</td>\n",
       "      <td>600</td>\n",
       "      <td>424.399994</td>\n",
       "    </tr>\n",
       "    <tr>\n",
       "      <th>9</th>\n",
       "      <td>11</td>\n",
       "      <td>49.213720</td>\n",
       "      <td>4.336002</td>\n",
       "      <td>400</td>\n",
       "      <td>512.250000</td>\n",
       "    </tr>\n",
       "    <tr>\n",
       "      <th>10</th>\n",
       "      <td>12</td>\n",
       "      <td>22.485583</td>\n",
       "      <td>4.499499</td>\n",
       "      <td>700</td>\n",
       "      <td>424.399994</td>\n",
       "    </tr>\n",
       "    <tr>\n",
       "      <th>11</th>\n",
       "      <td>13</td>\n",
       "      <td>18.665295</td>\n",
       "      <td>1.685310</td>\n",
       "      <td>100</td>\n",
       "      <td>424.399994</td>\n",
       "    </tr>\n",
       "    <tr>\n",
       "      <th>12</th>\n",
       "      <td>14</td>\n",
       "      <td>34.642554</td>\n",
       "      <td>1.167783</td>\n",
       "      <td>1000</td>\n",
       "      <td>568.849976</td>\n",
       "    </tr>\n",
       "    <tr>\n",
       "      <th>13</th>\n",
       "      <td>15</td>\n",
       "      <td>34.490721</td>\n",
       "      <td>3.452238</td>\n",
       "      <td>700</td>\n",
       "      <td>568.849976</td>\n",
       "    </tr>\n",
       "    <tr>\n",
       "      <th>14</th>\n",
       "      <td>16</td>\n",
       "      <td>33.000000</td>\n",
       "      <td>0.768975</td>\n",
       "      <td>730</td>\n",
       "      <td>568.849976</td>\n",
       "    </tr>\n",
       "    <tr>\n",
       "      <th>15</th>\n",
       "      <td>17</td>\n",
       "      <td>40.725956</td>\n",
       "      <td>4.040147</td>\n",
       "      <td>600</td>\n",
       "      <td>512.250000</td>\n",
       "    </tr>\n",
       "    <tr>\n",
       "      <th>16</th>\n",
       "      <td>18</td>\n",
       "      <td>22.159590</td>\n",
       "      <td>1.316188</td>\n",
       "      <td>500</td>\n",
       "      <td>568.849976</td>\n",
       "    </tr>\n",
       "    <tr>\n",
       "      <th>17</th>\n",
       "      <td>19</td>\n",
       "      <td>8.452344</td>\n",
       "      <td>4.188418</td>\n",
       "      <td>4000</td>\n",
       "      <td>568.849976</td>\n",
       "    </tr>\n",
       "    <tr>\n",
       "      <th>18</th>\n",
       "      <td>20</td>\n",
       "      <td>23.059333</td>\n",
       "      <td>3.332601</td>\n",
       "      <td>1500</td>\n",
       "      <td>568.849976</td>\n",
       "    </tr>\n",
       "  </tbody>\n",
       "</table>\n",
       "</div>"
      ],
      "text/plain": [
       "    OBJECTID_1  elveation     slope  Distance_R  Precipitat\n",
       "0            2  37.074029  5.754520         730  424.399994\n",
       "1            3  54.844981  3.917561        1000  424.399994\n",
       "2            4   9.814543  1.114918         200  424.399994\n",
       "3            5  50.464706  7.316616        1000  424.399994\n",
       "4            6  28.586240  1.292417         300  424.399994\n",
       "5            7  30.088753  2.898544         200  424.399994\n",
       "6            8  51.919829  3.421623        1200  512.250000\n",
       "7            9  13.048523  3.055299         400  424.399994\n",
       "8           10  30.100997  1.991433         600  424.399994\n",
       "9           11  49.213720  4.336002         400  512.250000\n",
       "10          12  22.485583  4.499499         700  424.399994\n",
       "11          13  18.665295  1.685310         100  424.399994\n",
       "12          14  34.642554  1.167783        1000  568.849976\n",
       "13          15  34.490721  3.452238         700  568.849976\n",
       "14          16  33.000000  0.768975         730  568.849976\n",
       "15          17  40.725956  4.040147         600  512.250000\n",
       "16          18  22.159590  1.316188         500  568.849976\n",
       "17          19   8.452344  4.188418        4000  568.849976\n",
       "18          20  23.059333  3.332601        1500  568.849976"
      ]
     },
     "execution_count": 33,
     "metadata": {},
     "output_type": "execute_result"
    }
   ],
   "source": [
    "datanew = pd.read_csv(r\"flood6.csv\")\n",
    "datanew"
   ]
  },
  {
   "cell_type": "code",
   "execution_count": 34,
   "id": "d8d440b1",
   "metadata": {},
   "outputs": [],
   "source": [
    "y_pred = train_model.predict(datanew)"
   ]
  },
  {
   "cell_type": "code",
   "execution_count": 35,
   "id": "6a1beff9",
   "metadata": {},
   "outputs": [
    {
     "data": {
      "text/plain": [
       "array([0, 0, 1, 0, 1, 1, 0, 1, 0, 0, 1, 1, 0, 0, 0, 0, 0, 1, 1],\n",
       "      dtype=int64)"
      ]
     },
     "execution_count": 35,
     "metadata": {},
     "output_type": "execute_result"
    }
   ],
   "source": [
    "y_pred"
   ]
  },
  {
   "cell_type": "code",
   "execution_count": 36,
   "id": "83537555",
   "metadata": {},
   "outputs": [
    {
     "data": {
      "text/html": [
       "<div>\n",
       "<style scoped>\n",
       "    .dataframe tbody tr th:only-of-type {\n",
       "        vertical-align: middle;\n",
       "    }\n",
       "\n",
       "    .dataframe tbody tr th {\n",
       "        vertical-align: top;\n",
       "    }\n",
       "\n",
       "    .dataframe thead th {\n",
       "        text-align: right;\n",
       "    }\n",
       "</style>\n",
       "<table border=\"1\" class=\"dataframe\">\n",
       "  <thead>\n",
       "    <tr style=\"text-align: right;\">\n",
       "      <th></th>\n",
       "      <th>OBJECTID_1</th>\n",
       "      <th>elveation</th>\n",
       "      <th>slope</th>\n",
       "      <th>Distance_R</th>\n",
       "      <th>Precipitat</th>\n",
       "      <th>Target</th>\n",
       "    </tr>\n",
       "  </thead>\n",
       "  <tbody>\n",
       "    <tr>\n",
       "      <th>0</th>\n",
       "      <td>2</td>\n",
       "      <td>37.074029</td>\n",
       "      <td>5.754520</td>\n",
       "      <td>730</td>\n",
       "      <td>424.399994</td>\n",
       "      <td>0</td>\n",
       "    </tr>\n",
       "    <tr>\n",
       "      <th>1</th>\n",
       "      <td>3</td>\n",
       "      <td>54.844981</td>\n",
       "      <td>3.917561</td>\n",
       "      <td>1000</td>\n",
       "      <td>424.399994</td>\n",
       "      <td>0</td>\n",
       "    </tr>\n",
       "    <tr>\n",
       "      <th>2</th>\n",
       "      <td>4</td>\n",
       "      <td>9.814543</td>\n",
       "      <td>1.114918</td>\n",
       "      <td>200</td>\n",
       "      <td>424.399994</td>\n",
       "      <td>1</td>\n",
       "    </tr>\n",
       "    <tr>\n",
       "      <th>3</th>\n",
       "      <td>5</td>\n",
       "      <td>50.464706</td>\n",
       "      <td>7.316616</td>\n",
       "      <td>1000</td>\n",
       "      <td>424.399994</td>\n",
       "      <td>0</td>\n",
       "    </tr>\n",
       "    <tr>\n",
       "      <th>4</th>\n",
       "      <td>6</td>\n",
       "      <td>28.586240</td>\n",
       "      <td>1.292417</td>\n",
       "      <td>300</td>\n",
       "      <td>424.399994</td>\n",
       "      <td>1</td>\n",
       "    </tr>\n",
       "    <tr>\n",
       "      <th>5</th>\n",
       "      <td>7</td>\n",
       "      <td>30.088753</td>\n",
       "      <td>2.898544</td>\n",
       "      <td>200</td>\n",
       "      <td>424.399994</td>\n",
       "      <td>1</td>\n",
       "    </tr>\n",
       "    <tr>\n",
       "      <th>6</th>\n",
       "      <td>8</td>\n",
       "      <td>51.919829</td>\n",
       "      <td>3.421623</td>\n",
       "      <td>1200</td>\n",
       "      <td>512.250000</td>\n",
       "      <td>0</td>\n",
       "    </tr>\n",
       "    <tr>\n",
       "      <th>7</th>\n",
       "      <td>9</td>\n",
       "      <td>13.048523</td>\n",
       "      <td>3.055299</td>\n",
       "      <td>400</td>\n",
       "      <td>424.399994</td>\n",
       "      <td>1</td>\n",
       "    </tr>\n",
       "    <tr>\n",
       "      <th>8</th>\n",
       "      <td>10</td>\n",
       "      <td>30.100997</td>\n",
       "      <td>1.991433</td>\n",
       "      <td>600</td>\n",
       "      <td>424.399994</td>\n",
       "      <td>0</td>\n",
       "    </tr>\n",
       "    <tr>\n",
       "      <th>9</th>\n",
       "      <td>11</td>\n",
       "      <td>49.213720</td>\n",
       "      <td>4.336002</td>\n",
       "      <td>400</td>\n",
       "      <td>512.250000</td>\n",
       "      <td>0</td>\n",
       "    </tr>\n",
       "    <tr>\n",
       "      <th>10</th>\n",
       "      <td>12</td>\n",
       "      <td>22.485583</td>\n",
       "      <td>4.499499</td>\n",
       "      <td>700</td>\n",
       "      <td>424.399994</td>\n",
       "      <td>1</td>\n",
       "    </tr>\n",
       "    <tr>\n",
       "      <th>11</th>\n",
       "      <td>13</td>\n",
       "      <td>18.665295</td>\n",
       "      <td>1.685310</td>\n",
       "      <td>100</td>\n",
       "      <td>424.399994</td>\n",
       "      <td>1</td>\n",
       "    </tr>\n",
       "    <tr>\n",
       "      <th>12</th>\n",
       "      <td>14</td>\n",
       "      <td>34.642554</td>\n",
       "      <td>1.167783</td>\n",
       "      <td>1000</td>\n",
       "      <td>568.849976</td>\n",
       "      <td>0</td>\n",
       "    </tr>\n",
       "    <tr>\n",
       "      <th>13</th>\n",
       "      <td>15</td>\n",
       "      <td>34.490721</td>\n",
       "      <td>3.452238</td>\n",
       "      <td>700</td>\n",
       "      <td>568.849976</td>\n",
       "      <td>0</td>\n",
       "    </tr>\n",
       "    <tr>\n",
       "      <th>14</th>\n",
       "      <td>16</td>\n",
       "      <td>33.000000</td>\n",
       "      <td>0.768975</td>\n",
       "      <td>730</td>\n",
       "      <td>568.849976</td>\n",
       "      <td>0</td>\n",
       "    </tr>\n",
       "    <tr>\n",
       "      <th>15</th>\n",
       "      <td>17</td>\n",
       "      <td>40.725956</td>\n",
       "      <td>4.040147</td>\n",
       "      <td>600</td>\n",
       "      <td>512.250000</td>\n",
       "      <td>0</td>\n",
       "    </tr>\n",
       "    <tr>\n",
       "      <th>16</th>\n",
       "      <td>18</td>\n",
       "      <td>22.159590</td>\n",
       "      <td>1.316188</td>\n",
       "      <td>500</td>\n",
       "      <td>568.849976</td>\n",
       "      <td>0</td>\n",
       "    </tr>\n",
       "    <tr>\n",
       "      <th>17</th>\n",
       "      <td>19</td>\n",
       "      <td>8.452344</td>\n",
       "      <td>4.188418</td>\n",
       "      <td>4000</td>\n",
       "      <td>568.849976</td>\n",
       "      <td>1</td>\n",
       "    </tr>\n",
       "    <tr>\n",
       "      <th>18</th>\n",
       "      <td>20</td>\n",
       "      <td>23.059333</td>\n",
       "      <td>3.332601</td>\n",
       "      <td>1500</td>\n",
       "      <td>568.849976</td>\n",
       "      <td>1</td>\n",
       "    </tr>\n",
       "  </tbody>\n",
       "</table>\n",
       "</div>"
      ],
      "text/plain": [
       "    OBJECTID_1  elveation     slope  Distance_R  Precipitat  Target\n",
       "0            2  37.074029  5.754520         730  424.399994       0\n",
       "1            3  54.844981  3.917561        1000  424.399994       0\n",
       "2            4   9.814543  1.114918         200  424.399994       1\n",
       "3            5  50.464706  7.316616        1000  424.399994       0\n",
       "4            6  28.586240  1.292417         300  424.399994       1\n",
       "5            7  30.088753  2.898544         200  424.399994       1\n",
       "6            8  51.919829  3.421623        1200  512.250000       0\n",
       "7            9  13.048523  3.055299         400  424.399994       1\n",
       "8           10  30.100997  1.991433         600  424.399994       0\n",
       "9           11  49.213720  4.336002         400  512.250000       0\n",
       "10          12  22.485583  4.499499         700  424.399994       1\n",
       "11          13  18.665295  1.685310         100  424.399994       1\n",
       "12          14  34.642554  1.167783        1000  568.849976       0\n",
       "13          15  34.490721  3.452238         700  568.849976       0\n",
       "14          16  33.000000  0.768975         730  568.849976       0\n",
       "15          17  40.725956  4.040147         600  512.250000       0\n",
       "16          18  22.159590  1.316188         500  568.849976       0\n",
       "17          19   8.452344  4.188418        4000  568.849976       1\n",
       "18          20  23.059333  3.332601        1500  568.849976       1"
      ]
     },
     "execution_count": 36,
     "metadata": {},
     "output_type": "execute_result"
    }
   ],
   "source": [
    "y_pred_dataframe = pd.DataFrame(y_pred,columns = ['Column_A'])\n",
    "datanew[\"Target\"]=y_pred_dataframe\n",
    "datanew"
   ]
  },
  {
   "cell_type": "code",
   "execution_count": 37,
   "id": "a5f5c8d1",
   "metadata": {},
   "outputs": [],
   "source": [
    "datanew.to_csv(r\"flood7.csv\")"
   ]
  }
 ],
 "metadata": {
  "kernelspec": {
   "display_name": "Python 3 (ipykernel)",
   "language": "python",
   "name": "python3"
  },
  "language_info": {
   "codemirror_mode": {
    "name": "ipython",
    "version": 3
   },
   "file_extension": ".py",
   "mimetype": "text/x-python",
   "name": "python",
   "nbconvert_exporter": "python",
   "pygments_lexer": "ipython3",
   "version": "3.8.12"
  }
 },
 "nbformat": 4,
 "nbformat_minor": 5
}
